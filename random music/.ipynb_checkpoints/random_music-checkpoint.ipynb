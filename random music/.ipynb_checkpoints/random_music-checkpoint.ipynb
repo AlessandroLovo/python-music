{
 "cells": [
  {
   "cell_type": "code",
   "execution_count": 1,
   "metadata": {},
   "outputs": [],
   "source": [
    "import numpy as np\n",
    "import os"
   ]
  },
  {
   "cell_type": "code",
   "execution_count": 2,
   "metadata": {},
   "outputs": [],
   "source": [
    "possible_durations = np.array([1,0.5,0.25,0.125,0.0625,0.75,0.375])\n",
    "major_key = np.array([0,2,4,5,7,9,11,12,14,16,17,19,21,23,24])\n",
    "minor_key = np.array([0,2,3,5,7,8,10,12])\n",
    "\n",
    "\n",
    "fundamental = 170\n",
    "possible_notes = fundamental*2**(major_key*1./12)"
   ]
  },
  {
   "cell_type": "code",
   "execution_count": 3,
   "metadata": {},
   "outputs": [],
   "source": [
    "for n in possible_notes:\n",
    "    os.system('play -nq -t alsa synth %f square %f' %(0.125,n))"
   ]
  },
  {
   "cell_type": "code",
   "execution_count": 37,
   "metadata": {},
   "outputs": [
    {
     "data": {
      "text/plain": [
       "0"
      ]
     },
     "execution_count": 37,
     "metadata": {},
     "output_type": "execute_result"
    }
   ],
   "source": [
    "os.system('play -nq -t alsa synth 0.5 square 220')"
   ]
  },
  {
   "cell_type": "code",
   "execution_count": 4,
   "metadata": {},
   "outputs": [],
   "source": [
    "def random_music(notes,durations,lenght=1):\n",
    "    ns = []\n",
    "    ds = []\n",
    "    for i in range(lenght):\n",
    "        ns.append(np.random.choice(notes))\n",
    "        ds.append(np.random.choice(durations))\n",
    "    return np.array(ns), np.array(ds)\n",
    "\n",
    "def random_walk_music(notes,durations,lenght=1,sigma=2):\n",
    "    ns = []\n",
    "    ds = []\n",
    "    l = len(notes)\n",
    "    j = l//2\n",
    "    for i in range(lenght):\n",
    "        j = (l//2 + int(np.random.normal(0,sigma))) % l\n",
    "        ns.append(notes[j])\n",
    "        ds.append(np.random.choice(durations))\n",
    "    return np.array(ns), np.array(ds)"
   ]
  },
  {
   "cell_type": "code",
   "execution_count": 8,
   "metadata": {},
   "outputs": [
    {
     "name": "stdout",
     "output_type": "stream",
     "text": [
      "song will last 38 seconds\n"
     ]
    }
   ],
   "source": [
    "ns,ds = random_music(possible_notes,possible_durations,100)\n",
    "print('song will last %d seconds' %(np.sum(ds)))"
   ]
  },
  {
   "cell_type": "code",
   "execution_count": 37,
   "metadata": {},
   "outputs": [],
   "source": [
    "ns = fundamental*2**(np.array([0,4,7,7,9,7,4,7,9,12])/12)\n",
    "ds = np.array([0.5,0.5,1,0.75,0.25,0.5,0.5,0.5,0.5,0.5])"
   ]
  },
  {
   "cell_type": "code",
   "execution_count": 38,
   "metadata": {},
   "outputs": [],
   "source": [
    "#play\n",
    "pace = 0.5\n",
    "\n",
    "for i,n in enumerate(ns):\n",
    "    os.system('play -nq -t alsa synth %f square %f' %(pace*ds[i],n))"
   ]
  },
  {
   "cell_type": "code",
   "execution_count": null,
   "metadata": {},
   "outputs": [],
   "source": []
  }
 ],
 "metadata": {
  "kernelspec": {
   "display_name": "Python 3",
   "language": "python",
   "name": "python3"
  },
  "language_info": {
   "codemirror_mode": {
    "name": "ipython",
    "version": 3
   },
   "file_extension": ".py",
   "mimetype": "text/x-python",
   "name": "python",
   "nbconvert_exporter": "python",
   "pygments_lexer": "ipython3",
   "version": "3.7.5"
  }
 },
 "nbformat": 4,
 "nbformat_minor": 2
}
